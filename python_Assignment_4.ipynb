{
  "nbformat": 4,
  "nbformat_minor": 0,
  "metadata": {
    "colab": {
      "name": "python Assignment 4.ipynb",
      "provenance": [],
      "authorship_tag": "ABX9TyPfZ+MOSqM2nL2SNkRwOROw",
      "include_colab_link": true
    },
    "kernelspec": {
      "name": "python3",
      "display_name": "Python 3"
    }
  },
  "cells": [
    {
      "cell_type": "markdown",
      "metadata": {
        "id": "view-in-github",
        "colab_type": "text"
      },
      "source": [
        "<a href=\"https://colab.research.google.com/github/VijayarajanS/ineuron-assignment/blob/master/python_Assignment_4.ipynb\" target=\"_parent\"><img src=\"https://colab.research.google.com/assets/colab-badge.svg\" alt=\"Open In Colab\"/></a>"
      ]
    },
    {
      "cell_type": "code",
      "metadata": {
        "id": "rLEk8ROfLhDY",
        "colab_type": "code",
        "colab": {
          "base_uri": "https://localhost:8080/",
          "height": 85
        },
        "outputId": "0825d916-88d2-4c80-8a9e-92f946e6777f"
      },
      "source": [
        "#1.1 Write a Python Program(with class concepts) to find the area of the triangle using the below formula. \n",
        "#area = (s*(s-a)*(s-b)*(s-c)) ** 0.5 \n",
        "#Function to take the length of the sides of triangle from user should be defined in the parent class and \n",
        "#function to calculate the area should be defined in subclass. \n",
        "\n",
        "class triangle:\n",
        "  def __init__(self,a,b,c):\n",
        "    self.a=a\n",
        "    self.b=b\n",
        "    self.c=c\n",
        "  def __str__(self):\n",
        "    return \"The sides are %f,%f,%f\" %(self.a,self.b,self.c)\n",
        "\n",
        "class area(triangle):\n",
        "  def __init__(self,perimeter,*args):\n",
        "    super(area,self).__init__(*args)\n",
        "    self.s = perimeter\n",
        "  def __str__(self):\n",
        "    return super(area,self).__str__() + \", the perimeter is %f and the area is: %f\" %(self.s,((self.s*(self.s-self.a)*(self.s-self.b)*(self.s-self.c))**0.5))\n",
        "\n",
        "a = float(input(\"Please enter the value of side a : \"))\n",
        "b = float(input(\"Please enter the value of side b : \"))\n",
        "c = float(input(\"Please enter the value of side c : \"))\n",
        "\n",
        "perimeter = (a+b+c)/2\n",
        "sides = area(perimeter,a,b,c)\n",
        "print(sides)\n",
        "    "
      ],
      "execution_count": 1,
      "outputs": [
        {
          "output_type": "stream",
          "text": [
            "Please enter the value of side a : 24\n",
            "Please enter the value of side b : 30\n",
            "Please enter the value of side c : 18\n",
            "The sides are 24.000000,30.000000,18.000000, the perimeter is 36.000000 and the area is: 216.000000\n"
          ],
          "name": "stdout"
        }
      ]
    },
    {
      "cell_type": "code",
      "metadata": {
        "id": "ldtgNfccL5lw",
        "colab_type": "code",
        "colab": {
          "base_uri": "https://localhost:8080/",
          "height": 34
        },
        "outputId": "f228a020-bc7b-42e5-f01b-d452072d32b2"
      },
      "source": [
        "#1.2 Write a function filter_long_words() that takes a list of words and an integer n and returns the list of words that are longer than n. \n",
        "\n",
        "def filter_long_words(w,n):\n",
        "  return \"The words longer than %d are %s\" %(n,list(filter(lambda word: len(word)>n,w)))\n",
        "\n",
        "word=['eat','sleep','meet','happy']\n",
        "n=4\n",
        "filter_long_words(word,n)"
      ],
      "execution_count": 38,
      "outputs": [
        {
          "output_type": "execute_result",
          "data": {
            "text/plain": [
              "\"The words longer than 4 are ['sleep', 'happy']\""
            ]
          },
          "metadata": {
            "tags": []
          },
          "execution_count": 38
        }
      ]
    },
    {
      "cell_type": "markdown",
      "metadata": {
        "id": "-uUn5wq0Xb5N",
        "colab_type": "text"
      },
      "source": [
        ""
      ]
    },
    {
      "cell_type": "code",
      "metadata": {
        "id": "872FENWROJGR",
        "colab_type": "code",
        "colab": {
          "base_uri": "https://localhost:8080/",
          "height": 34
        },
        "outputId": "aa3e3eb6-f3e3-4e19-e03e-5e34c9e00af9"
      },
      "source": [
        "#2.1 Write a Python program using function concept that maps list of words into a list of integers representing the lengths of the corresponding words. \n",
        "\n",
        "word=['eat','sleep','meet','happy']\n",
        "\n",
        "def wordlength(w):\n",
        "  return(list(map(lambda x:len(x), word)))\n",
        "\n",
        "print(\"The words are {} and length of the words are {} \".format(word,wordlength(word)))"
      ],
      "execution_count": 10,
      "outputs": [
        {
          "output_type": "stream",
          "text": [
            "The words are ['eat', 'sleep', 'meet', 'happy'] length of the words are [3, 5, 4, 5] \n"
          ],
          "name": "stdout"
        }
      ]
    },
    {
      "cell_type": "code",
      "metadata": {
        "id": "_A9XbInIWmvs",
        "colab_type": "code",
        "colab": {
          "base_uri": "https://localhost:8080/",
          "height": 51
        },
        "outputId": "7db81e9b-c472-4f00-fa88-7bead9de1f9b"
      },
      "source": [
        "##2.2 Write a Python function which takes a character (i.e. a string of length 1) and returns True if it is a vowel, False otherwise.\n",
        "\n",
        "vowel = lambda char: True if (char == 'a' or char == 'e' or char == 'i' or char == 'o' or char == 'u') else False\n",
        "v= input(\"Enter the character you want to check if it is a vowel : \")\n",
        "vowel(v)"
      ],
      "execution_count": 36,
      "outputs": [
        {
          "output_type": "stream",
          "text": [
            "Enter the character you want to check if it is a vowel : a\n"
          ],
          "name": "stdout"
        },
        {
          "output_type": "execute_result",
          "data": {
            "text/plain": [
              "True"
            ]
          },
          "metadata": {
            "tags": []
          },
          "execution_count": 36
        }
      ]
    },
    {
      "cell_type": "code",
      "metadata": {
        "id": "aECF0eurMRah",
        "colab_type": "code",
        "colab": {}
      },
      "source": [
        ""
      ],
      "execution_count": 0,
      "outputs": []
    }
  ]
}