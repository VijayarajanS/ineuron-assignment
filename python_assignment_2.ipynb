{
  "nbformat": 4,
  "nbformat_minor": 0,
  "metadata": {
    "colab": {
      "name": "Copy of python assignment 2.ipynb",
      "provenance": [],
      "authorship_tag": "ABX9TyOFdUyeemwiHUk9q6yeFpP7",
      "include_colab_link": true
    },
    "kernelspec": {
      "name": "python3",
      "display_name": "Python 3"
    }
  },
  "cells": [
    {
      "cell_type": "markdown",
      "metadata": {
        "id": "view-in-github",
        "colab_type": "text"
      },
      "source": [
        "<a href=\"https://colab.research.google.com/github/VijayarajanS/ineuron-assignment/blob/master/python_assignment_2.ipynb\" target=\"_parent\"><img src=\"https://colab.research.google.com/assets/colab-badge.svg\" alt=\"Open In Colab\"/></a>"
      ]
    },
    {
      "cell_type": "code",
      "metadata": {
        "id": "pTlcKDPEl-PR",
        "colab_type": "code",
        "outputId": "eaf50111-a1ac-4bea-c0fc-5cb7490c5a1b",
        "colab": {
          "base_uri": "https://localhost:8080/",
          "height": 187
        }
      },
      "source": [
        "h='*'\n",
        "j=0\n",
        "for i in list(range(4,0,-1)):\n",
        "  if(j<6):\n",
        "    for j in list(range(7)):\n",
        "      if(j>5):\n",
        "        break\n",
        "      print(h*j)\n",
        "  print(h*i)\n"
      ],
      "execution_count": 3,
      "outputs": [
        {
          "output_type": "stream",
          "text": [
            "\n",
            "*\n",
            "**\n",
            "***\n",
            "****\n",
            "*****\n",
            "****\n",
            "***\n",
            "**\n",
            "*\n"
          ],
          "name": "stdout"
        }
      ]
    },
    {
      "cell_type": "code",
      "metadata": {
        "id": "_fLOWxddn6I3",
        "colab_type": "code",
        "outputId": "c7263fe2-da92-44c1-862c-0df4580bf50c",
        "colab": {
          "base_uri": "https://localhost:8080/",
          "height": 51
        }
      },
      "source": [
        "  word = input(\"Please enter the word to be reversed:  \")\n",
        "  print(word[::-1])"
      ],
      "execution_count": 1,
      "outputs": [
        {
          "output_type": "stream",
          "text": [
            "Please enter the word to be reversed:  ineuron\n",
            "norueni\n"
          ],
          "name": "stdout"
        }
      ]
    }
  ]
}