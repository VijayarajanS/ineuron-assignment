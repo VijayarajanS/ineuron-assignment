{
  "nbformat": 4,
  "nbformat_minor": 0,
  "metadata": {
    "colab": {
      "name": "Copy of python assignment 2.ipynb",
      "provenance": [],
      "authorship_tag": "ABX9TyMg7HMgSvoiS1i2pPApYz2P",
      "include_colab_link": true
    },
    "kernelspec": {
      "name": "python3",
      "display_name": "Python 3"
    }
  },
  "cells": [
    {
      "cell_type": "markdown",
      "metadata": {
        "id": "view-in-github",
        "colab_type": "text"
      },
      "source": [
        "<a href=\"https://colab.research.google.com/github/VijayarajanS/ineuron-assignment/blob/master/python_assignment_2.ipynb\" target=\"_parent\"><img src=\"https://colab.research.google.com/assets/colab-badge.svg\" alt=\"Open In Colab\"/></a>"
      ]
    },
    {
      "cell_type": "code",
      "metadata": {
        "id": "pTlcKDPEl-PR",
        "colab_type": "code",
        "outputId": "a40ff873-52ea-4b1a-a511-b4d5e0467666",
        "colab": {
          "base_uri": "https://localhost:8080/",
          "height": 187
        }
      },
      "source": [
        "j=0\n",
        "for i in list(range(4,0,-1)):\n",
        "  if(j<6):\n",
        "    for j in list(range(7)):\n",
        "      if(j>5):\n",
        "        break\n",
        "      print(h*j)\n",
        "  print(h*i)\n"
      ],
      "execution_count": 0,
      "outputs": [
        {
          "output_type": "stream",
          "text": [
            "\n",
            "*\n",
            "**\n",
            "***\n",
            "****\n",
            "*****\n",
            "****\n",
            "***\n",
            "**\n",
            "*\n"
          ],
          "name": "stdout"
        }
      ]
    },
    {
      "cell_type": "code",
      "metadata": {
        "id": "_fLOWxddn6I3",
        "colab_type": "code",
        "outputId": "0971c060-c95c-4866-daad-cc339772dd55",
        "colab": {
          "base_uri": "https://localhost:8080/",
          "height": 51
        }
      },
      "source": [
        "  word = input(\"Please enter the word to be reversed:  \")\n",
        "  print(word[::-1])"
      ],
      "execution_count": 2,
      "outputs": [
        {
          "output_type": "stream",
          "text": [
            "Please enter the word to be reversed:  ineuron\n",
            "norueni\n"
          ],
          "name": "stdout"
        }
      ]
    }
  ]
}