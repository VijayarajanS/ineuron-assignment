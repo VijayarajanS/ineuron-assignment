{
  "nbformat": 4,
  "nbformat_minor": 0,
  "metadata": {
    "colab": {
      "name": "python assignment 3.ipynb",
      "provenance": [],
      "authorship_tag": "ABX9TyNnHYyuG7XwSzT/IlBG+qVG",
      "include_colab_link": true
    },
    "kernelspec": {
      "name": "python3",
      "display_name": "Python 3"
    }
  },
  "cells": [
    {
      "cell_type": "markdown",
      "metadata": {
        "id": "view-in-github",
        "colab_type": "text"
      },
      "source": [
        "<a href=\"https://colab.research.google.com/github/VijayarajanS/ineuron-assignment/blob/master/python_assignment_3.ipynb\" target=\"_parent\"><img src=\"https://colab.research.google.com/assets/colab-badge.svg\" alt=\"Open In Colab\"/></a>"
      ]
    },
    {
      "cell_type": "code",
      "metadata": {
        "id": "gc_KmPi0bOF0",
        "colab_type": "code",
        "colab": {
          "base_uri": "https://localhost:8080/",
          "height": 51
        },
        "outputId": "f183e6cd-2441-4cec-ac4c-7e2ee2a84624"
      },
      "source": [
        "#1.1 Write a Python Program to implement your own myreduce() function which works exactly like Python's built-in function reduce() \n",
        "\n",
        "from functools import reduce\n",
        "x=[12,34,53,22] #Input\n",
        "f=reduce(lambda x,y:x+y,x)\n",
        "print(\"Using reduce function the output is {}\".format(f))\n",
        "\n",
        "def myReduce(x):\n",
        "  j=0\n",
        "  for i in x:\n",
        "    j=j+i\n",
        "  print(\"Using User defined function the output is {}\".format(j))\n",
        "myReduce(x)"
      ],
      "execution_count": 1,
      "outputs": [
        {
          "output_type": "stream",
          "text": [
            "Using reduce function the output is 121\n",
            "Using User defined function the output is 121\n"
          ],
          "name": "stdout"
        }
      ]
    },
    {
      "cell_type": "code",
      "metadata": {
        "id": "5TFzJu3Zbbdb",
        "colab_type": "code",
        "colab": {
          "base_uri": "https://localhost:8080/",
          "height": 51
        },
        "outputId": "43c65fc9-fa1d-49aa-cd98-f8f47df53e7b"
      },
      "source": [
        "#1.2 Write a Python program to implement your own myfilter() function which works exactly like Python's built-in function filter() \n",
        "\n",
        "y= list(range(1,21)) #Input\n",
        "filter_op=list(filter(lambda x:x%2==0,y))\n",
        "print(\"Using Filter function the output is {}\".format(filter_op))\n",
        "\n",
        "def myFilter(x):\n",
        "  j=[]\n",
        "  for i in x:\n",
        "    if(i%2==0):\n",
        "      j.append(i)\n",
        "  print(\"Using User defined function the output is {}\".format(j))\n",
        "myFilter(y)"
      ],
      "execution_count": 3,
      "outputs": [
        {
          "output_type": "stream",
          "text": [
            "Using Filter function the output is [2, 4, 6, 8, 10, 12, 14, 16, 18, 20]\n",
            "Using User defined function the output is [2, 4, 6, 8, 10, 12, 14, 16, 18, 20]\n"
          ],
          "name": "stdout"
        }
      ]
    },
    {
      "cell_type": "code",
      "metadata": {
        "id": "_GMwA3v6bp1X",
        "colab_type": "code",
        "colab": {
          "base_uri": "https://localhost:8080/",
          "height": 136
        },
        "outputId": "9109dcf5-347c-4d3c-aaa6-02ba54c5bb12"
      },
      "source": [
        "#2. Implement List comprehensions to produce the following lists. \n",
        "#Write List comprehensions to produce the following Lists \n",
        "\n",
        "\n",
        "#['A', 'C', 'A', 'D', 'G', 'I', ’L’, ‘ D’] \n",
        "w = \"ACADGILD\"\n",
        "a = [ a for a in w ]\n",
        "print (a)\n",
        "\n",
        "#['x', 'xx', 'xxx', 'xxxx', 'y', 'yy', 'yyy', 'yyyy', 'z', 'zz', 'zzz', 'zzzz'] \n",
        "item= ['x','y','z']\n",
        "q1= [i * x for i in item for x in range(1,5) ]\n",
        "print(q1)\n",
        "\n",
        "#['x', 'y', 'z', 'xx', 'yy', 'zz', 'xxx', 'yyy', 'zzz', 'xxxx', 'yyyy', 'zzzz']\n",
        "item= ['x','y','z']\n",
        "q2 = [i*x for i in range(1,5) for x in item]\n",
        "print(q2)\n",
        "\n",
        "#[[2], [3], [4], [3], [4], [5], [4], [5], [6]]\n",
        "num = [2,3,4]\n",
        "q3 = [[i+n] for i in range(0,3) for n in num]\n",
        "print(q3)\n",
        "\n",
        "#[[2, 3, 4, 5], [3, 4, 5, 6], [4, 5, 6, 7], [5, 6, 7, 8]] \n",
        "num=[2,3,4,5]\n",
        "q4 = [[i + n for n in num] for i in range(0,4)]\n",
        "print(q4)\n",
        "\n",
        "#[(1, 1), (2, 1), (3, 1), (1, 2), (2, 2), (3, 2), (1, 3), (2, 3), (3, 3)]\n",
        "num = [1,2,3]\n",
        "q5= [(i,j) for j in num for i in range(1,4)]\n",
        "print(q5)\n",
        "\n",
        "#[[2], [3], [4], [3], [4], [5], [4], [5], [6]] [[2, 3, 4, 5], [3, 4, 5, 6], [4, 5, 6, 7], [5, 6, 7, 8]] \n",
        "\n",
        "print(q3,q4,end='')\n"
      ],
      "execution_count": 20,
      "outputs": [
        {
          "output_type": "stream",
          "text": [
            "['A', 'C', 'A', 'D', 'G', 'I', 'L', 'D']\n",
            "['x', 'xx', 'xxx', 'xxxx', 'y', 'yy', 'yyy', 'yyyy', 'z', 'zz', 'zzz', 'zzzz']\n",
            "['x', 'y', 'z', 'xx', 'yy', 'zz', 'xxx', 'yyy', 'zzz', 'xxxx', 'yyyy', 'zzzz']\n",
            "[[2], [3], [4], [3], [4], [5], [4], [5], [6]]\n",
            "[[2, 3, 4, 5], [3, 4, 5, 6], [4, 5, 6, 7], [5, 6, 7, 8]]\n",
            "[(1, 1), (2, 1), (3, 1), (1, 2), (2, 2), (3, 2), (1, 3), (2, 3), (3, 3)]\n",
            "[[2], [3], [4], [3], [4], [5], [4], [5], [6]] [[2, 3, 4, 5], [3, 4, 5, 6], [4, 5, 6, 7], [5, 6, 7, 8]]"
          ],
          "name": "stdout"
        }
      ]
    }
  ]
}